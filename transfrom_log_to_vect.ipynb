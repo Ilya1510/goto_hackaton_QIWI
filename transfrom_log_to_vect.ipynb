{
 "cells": [
  {
   "cell_type": "code",
   "execution_count": 138,
   "metadata": {
    "collapsed": true
   },
   "outputs": [],
   "source": [
    "import pandas as pd\n",
    "import numpy as np"
   ]
  },
  {
   "cell_type": "code",
   "execution_count": 139,
   "metadata": {
    "collapsed": false
   },
   "outputs": [
    {
     "data": {
      "text/html": [
       "<div>\n",
       "<table border=\"1\" class=\"dataframe\">\n",
       "  <thead>\n",
       "    <tr style=\"text-align: right;\">\n",
       "      <th></th>\n",
       "      <th>user_id</th>\n",
       "      <th>sex</th>\n",
       "      <th>age</th>\n",
       "      <th>university</th>\n",
       "      <th>graduation_year</th>\n",
       "    </tr>\n",
       "  </thead>\n",
       "  <tbody>\n",
       "    <tr>\n",
       "      <th>0</th>\n",
       "      <td>1</td>\n",
       "      <td>Муж</td>\n",
       "      <td>26</td>\n",
       "      <td>МАТИ</td>\n",
       "      <td>2012.0</td>\n",
       "    </tr>\n",
       "    <tr>\n",
       "      <th>1</th>\n",
       "      <td>2</td>\n",
       "      <td>Муж</td>\n",
       "      <td>36</td>\n",
       "      <td>ТулГУ</td>\n",
       "      <td>2003.0</td>\n",
       "    </tr>\n",
       "    <tr>\n",
       "      <th>2</th>\n",
       "      <td>3</td>\n",
       "      <td>Муж</td>\n",
       "      <td>33</td>\n",
       "      <td>ЮРГТУ</td>\n",
       "      <td>2006.0</td>\n",
       "    </tr>\n",
       "  </tbody>\n",
       "</table>\n",
       "</div>"
      ],
      "text/plain": [
       "   user_id  sex  age university  graduation_year\n",
       "0        1  Муж   26       МАТИ           2012.0\n",
       "1        2  Муж   36      ТулГУ           2003.0\n",
       "2        3  Муж   33      ЮРГТУ           2006.0"
      ]
     },
     "execution_count": 139,
     "metadata": {},
     "output_type": "execute_result"
    }
   ],
   "source": [
    "money_train = pd.read_csv('qiwi_money_out_data_train.csv', encoding='windows-1251', delimiter=';')\n",
    "#money_train[:3]\n",
    "answer_train = pd.read_csv('qiwi_users_profile_data_train.csv', encoding='windows-1251', delimiter=';')\n",
    "answer_train[:3]"
   ]
  },
  {
   "cell_type": "code",
   "execution_count": 140,
   "metadata": {
    "collapsed": false
   },
   "outputs": [
    {
     "data": {
      "text/plain": [
       "Сотовая связь    24253\n",
       "Интернет         12523\n",
       "Онлайн игры       8783\n",
       "Name: category, dtype: int64"
      ]
     },
     "execution_count": 140,
     "metadata": {},
     "output_type": "execute_result"
    }
   ],
   "source": [
    "money_train['category'].value_counts()[:3]\n",
    "#20"
   ]
  },
  {
   "cell_type": "code",
   "execution_count": 145,
   "metadata": {
    "collapsed": false
   },
   "outputs": [],
   "source": [
    "k = 10\n",
    "categories = money_train['category'].value_counts().keys()\n",
    "category_counts = len(categories)\n",
    "dict_users_buys = {}\n",
    "for ind, row in money_train.iterrows():\n",
    "    people_id = row['user_id']\n",
    "    category_name = row['category']\n",
    "    payment = row['payment']\n",
    "    if (not people_id in dict_users_buys.keys()):\n",
    "        dict_users_buys[people_id] = dict.fromkeys(categories[:k], 0)\n",
    "    if (category_name in dict_users_buys[people_id].keys()):\n",
    "        dict_users_buys[people_id][category_name] += payment \n",
    "#dict_users_buys"
   ]
  },
  {
   "cell_type": "code",
   "execution_count": 147,
   "metadata": {
    "collapsed": false
   },
   "outputs": [],
   "source": [
    "trainX = []\n",
    "trainY = []\n",
    "for key, value in dict_users_buys.items():\n",
    "    indY = key\n",
    "    if (list(answer_train[answer_train.user_id == indY].sex)[0] == 'Муж'):\n",
    "        trainY.append(1)\n",
    "    else:\n",
    "        trainY.append(0)\n",
    "    res = []\n",
    "    for i in categories[:k]:\n",
    "        res.append(value[i])\n",
    "    trainX.append(res)\n",
    "#trainY"
   ]
  },
  {
   "cell_type": "code",
   "execution_count": 148,
   "metadata": {
    "collapsed": false
   },
   "outputs": [
    {
     "data": {
      "text/plain": [
       "LinearRegression(copy_X=True, fit_intercept=True, n_jobs=1, normalize=True)"
      ]
     },
     "execution_count": 148,
     "metadata": {},
     "output_type": "execute_result"
    }
   ],
   "source": [
    "from sklearn.linear_model import LinearRegression \n",
    "tree = LinearRegression(normalize=True)\n",
    "tree.fit(trainX, trainY)"
   ]
  },
  {
   "cell_type": "code",
   "execution_count": 151,
   "metadata": {
    "collapsed": false
   },
   "outputs": [
    {
     "name": "stdout",
     "output_type": "stream",
     "text": [
      "0.344214750348\n",
      "0.7655068078668684\n"
     ]
    }
   ],
   "source": [
    "train_predict = tree.predict(trainX)\n",
    "mis = 0\n",
    "mmm = 0\n",
    "for i in range(3305):\n",
    "    mis += abs(train_predict[i] - trainY[i])\n",
    "    mmm += trainY[i]\n",
    "print(mis / 3305)\n",
    "print(mmm / 3305)"
   ]
  },
  {
   "cell_type": "code",
   "execution_count": 136,
   "metadata": {
    "collapsed": false
   },
   "outputs": [
    {
     "data": {
      "text/html": [
       "<div>\n",
       "<table border=\"1\" class=\"dataframe\">\n",
       "  <thead>\n",
       "    <tr style=\"text-align: right;\">\n",
       "      <th></th>\n",
       "      <th>user_id</th>\n",
       "      <th>university</th>\n",
       "      <th>graduation_year</th>\n",
       "    </tr>\n",
       "  </thead>\n",
       "  <tbody>\n",
       "    <tr>\n",
       "      <th>0</th>\n",
       "      <td>4</td>\n",
       "      <td>МГТУ \"МАМИ\"</td>\n",
       "      <td>2010.0</td>\n",
       "    </tr>\n",
       "    <tr>\n",
       "      <th>1</th>\n",
       "      <td>6</td>\n",
       "      <td>ИГЭУ им. Ленина</td>\n",
       "      <td>2002.0</td>\n",
       "    </tr>\n",
       "    <tr>\n",
       "      <th>2</th>\n",
       "      <td>10</td>\n",
       "      <td>РУК</td>\n",
       "      <td>2001.0</td>\n",
       "    </tr>\n",
       "  </tbody>\n",
       "</table>\n",
       "</div>"
      ],
      "text/plain": [
       "   user_id       university  graduation_year\n",
       "0        4      МГТУ \"МАМИ\"           2010.0\n",
       "1        6  ИГЭУ им. Ленина           2002.0\n",
       "2       10              РУК           2001.0"
      ]
     },
     "execution_count": 136,
     "metadata": {},
     "output_type": "execute_result"
    }
   ],
   "source": [
    "money_test = pd.read_csv('qiwi_money_out_data_test.csv', encoding='windows-1251', delimiter=';')\n",
    "money_test = money_train[:30000]\n",
    "#money_train[:3]\n",
    "answer_test = pd.read_csv('qiwi_users_profile_data_test.csv', encoding='windows-1251', delimiter=';')\n",
    "answer_test[:3]"
   ]
  },
  {
   "cell_type": "code",
   "execution_count": 137,
   "metadata": {
    "collapsed": false
   },
   "outputs": [
    {
     "ename": "AttributeError",
     "evalue": "'DataFrame' object has no attribute 'sex'",
     "output_type": "error",
     "traceback": [
      "\u001b[0;31m---------------------------------------------------------------------------\u001b[0m",
      "\u001b[0;31mAttributeError\u001b[0m                            Traceback (most recent call last)",
      "\u001b[0;32m<ipython-input-137-342dd695deaf>\u001b[0m in \u001b[0;36m<module>\u001b[0;34m()\u001b[0m\n\u001b[1;32m     16\u001b[0m \u001b[0;32mfor\u001b[0m \u001b[0mkey\u001b[0m\u001b[0;34m,\u001b[0m \u001b[0mvalue\u001b[0m \u001b[0;32min\u001b[0m \u001b[0mdict_users_buysY\u001b[0m\u001b[0;34m.\u001b[0m\u001b[0mitems\u001b[0m\u001b[0;34m(\u001b[0m\u001b[0;34m)\u001b[0m\u001b[0;34m:\u001b[0m\u001b[0;34m\u001b[0m\u001b[0m\n\u001b[1;32m     17\u001b[0m     \u001b[0mindY\u001b[0m \u001b[0;34m=\u001b[0m \u001b[0mkey\u001b[0m\u001b[0;34m\u001b[0m\u001b[0m\n\u001b[0;32m---> 18\u001b[0;31m     \u001b[0;32mif\u001b[0m \u001b[0;34m(\u001b[0m\u001b[0mlist\u001b[0m\u001b[0;34m(\u001b[0m\u001b[0manswer_test\u001b[0m\u001b[0;34m[\u001b[0m\u001b[0manswer_test\u001b[0m\u001b[0;34m.\u001b[0m\u001b[0muser_id\u001b[0m \u001b[0;34m==\u001b[0m \u001b[0mindY\u001b[0m\u001b[0;34m]\u001b[0m\u001b[0;34m.\u001b[0m\u001b[0msex\u001b[0m\u001b[0;34m)\u001b[0m\u001b[0;34m[\u001b[0m\u001b[0;36m0\u001b[0m\u001b[0;34m]\u001b[0m \u001b[0;34m==\u001b[0m \u001b[0;34m'Муж'\u001b[0m\u001b[0;34m)\u001b[0m\u001b[0;34m:\u001b[0m\u001b[0;34m\u001b[0m\u001b[0m\n\u001b[0m\u001b[1;32m     19\u001b[0m         \u001b[0mtestY\u001b[0m\u001b[0;34m.\u001b[0m\u001b[0mappend\u001b[0m\u001b[0;34m(\u001b[0m\u001b[0;36m1\u001b[0m\u001b[0;34m)\u001b[0m\u001b[0;34m\u001b[0m\u001b[0m\n\u001b[1;32m     20\u001b[0m     \u001b[0;32melse\u001b[0m\u001b[0;34m:\u001b[0m\u001b[0;34m\u001b[0m\u001b[0m\n",
      "\u001b[0;32mC:\\Users\\ДОМ\\Anaconda3\\lib\\site-packages\\pandas\\core\\generic.py\u001b[0m in \u001b[0;36m__getattr__\u001b[0;34m(self, name)\u001b[0m\n\u001b[1;32m   2670\u001b[0m             \u001b[0;32mif\u001b[0m \u001b[0mname\u001b[0m \u001b[0;32min\u001b[0m \u001b[0mself\u001b[0m\u001b[0;34m.\u001b[0m\u001b[0m_info_axis\u001b[0m\u001b[0;34m:\u001b[0m\u001b[0;34m\u001b[0m\u001b[0m\n\u001b[1;32m   2671\u001b[0m                 \u001b[0;32mreturn\u001b[0m \u001b[0mself\u001b[0m\u001b[0;34m[\u001b[0m\u001b[0mname\u001b[0m\u001b[0;34m]\u001b[0m\u001b[0;34m\u001b[0m\u001b[0m\n\u001b[0;32m-> 2672\u001b[0;31m             \u001b[0;32mreturn\u001b[0m \u001b[0mobject\u001b[0m\u001b[0;34m.\u001b[0m\u001b[0m__getattribute__\u001b[0m\u001b[0;34m(\u001b[0m\u001b[0mself\u001b[0m\u001b[0;34m,\u001b[0m \u001b[0mname\u001b[0m\u001b[0;34m)\u001b[0m\u001b[0;34m\u001b[0m\u001b[0m\n\u001b[0m\u001b[1;32m   2673\u001b[0m \u001b[0;34m\u001b[0m\u001b[0m\n\u001b[1;32m   2674\u001b[0m     \u001b[0;32mdef\u001b[0m \u001b[0m__setattr__\u001b[0m\u001b[0;34m(\u001b[0m\u001b[0mself\u001b[0m\u001b[0;34m,\u001b[0m \u001b[0mname\u001b[0m\u001b[0;34m,\u001b[0m \u001b[0mvalue\u001b[0m\u001b[0;34m)\u001b[0m\u001b[0;34m:\u001b[0m\u001b[0;34m\u001b[0m\u001b[0m\n",
      "\u001b[0;31mAttributeError\u001b[0m: 'DataFrame' object has no attribute 'sex'"
     ]
    }
   ],
   "source": [
    "k = 20\n",
    "categoriesY = money_test['category'].value_counts().keys()\n",
    "category_countsY = len(categoriesY)\n",
    "dict_users_buysY = {}\n",
    "for ind, row in money_test.iterrows():\n",
    "    people_id = row['user_id']\n",
    "    category_name = row['category']\n",
    "    payment = row['payment']\n",
    "    if (not people_id in dict_users_buysY.keys()):\n",
    "        dict_users_buysY[people_id] = dict.fromkeys(categoriesY[:k], 0)\n",
    "    if (category_name in dict_users_buysY[people_id].keys()):\n",
    "        dict_users_buysY[people_id][category_name] += payment \n",
    "#dict_users_buys\n",
    "testX = []\n",
    "testY = []\n",
    "for key, value in dict_users_buysY.items():\n",
    "    indY = key\n",
    "    if (list(answer_test[answer_test.user_id == indY].sex)[0] == 'Муж'):\n",
    "        testY.append(1)\n",
    "    else:\n",
    "        testY.append(0)\n",
    "    res = []\n",
    "    for i in categoriesY[:k]:\n",
    "        res.append(value[i])\n",
    "    testX.append(res)\n",
    "#trainY"
   ]
  },
  {
   "cell_type": "code",
   "execution_count": null,
   "metadata": {
    "collapsed": true
   },
   "outputs": [],
   "source": []
  }
 ],
 "metadata": {
  "kernelspec": {
   "display_name": "Python [Root]",
   "language": "python",
   "name": "Python [Root]"
  },
  "language_info": {
   "codemirror_mode": {
    "name": "ipython",
    "version": 3
   },
   "file_extension": ".py",
   "mimetype": "text/x-python",
   "name": "python",
   "nbconvert_exporter": "python",
   "pygments_lexer": "ipython3",
   "version": "3.4.5"
  }
 },
 "nbformat": 4,
 "nbformat_minor": 0
}
